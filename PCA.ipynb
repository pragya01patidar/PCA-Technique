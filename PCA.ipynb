{
 "cells": [
  {
   "cell_type": "code",
   "execution_count": 1,
   "id": "5462b7ec",
   "metadata": {},
   "outputs": [],
   "source": [
    "import numpy as np\n",
    "import pandas as pd\n",
    "import seaborn as sns\n",
    "from matplotlib import pyplot as plt\n",
    "from scipy.stats import zscore\n",
    "from sklearn.model_selection import train_test_split\n",
    "from sklearn.preprocessing import StandardScaler\n",
    "from sklearn.decomposition import PCA"
   ]
  },
  {
   "cell_type": "code",
   "execution_count": 2,
   "id": "acafbe0a",
   "metadata": {},
   "outputs": [],
   "source": [
    "data=pd.read_csv(\"auto-mpg.csv\")"
   ]
  },
  {
   "cell_type": "code",
   "execution_count": 3,
   "id": "9455bcae",
   "metadata": {},
   "outputs": [
    {
     "data": {
      "text/html": [
       "<div>\n",
       "<style scoped>\n",
       "    .dataframe tbody tr th:only-of-type {\n",
       "        vertical-align: middle;\n",
       "    }\n",
       "\n",
       "    .dataframe tbody tr th {\n",
       "        vertical-align: top;\n",
       "    }\n",
       "\n",
       "    .dataframe thead th {\n",
       "        text-align: right;\n",
       "    }\n",
       "</style>\n",
       "<table border=\"1\" class=\"dataframe\">\n",
       "  <thead>\n",
       "    <tr style=\"text-align: right;\">\n",
       "      <th></th>\n",
       "      <th>mpg</th>\n",
       "      <th>cylinders</th>\n",
       "      <th>displacement</th>\n",
       "      <th>horsepower</th>\n",
       "      <th>weight</th>\n",
       "      <th>acceleration</th>\n",
       "      <th>model year</th>\n",
       "      <th>origin</th>\n",
       "      <th>car name</th>\n",
       "    </tr>\n",
       "  </thead>\n",
       "  <tbody>\n",
       "    <tr>\n",
       "      <th>0</th>\n",
       "      <td>18.0</td>\n",
       "      <td>8</td>\n",
       "      <td>307.0</td>\n",
       "      <td>130</td>\n",
       "      <td>3504</td>\n",
       "      <td>12.0</td>\n",
       "      <td>70</td>\n",
       "      <td>1</td>\n",
       "      <td>chevrolet chevelle malibu</td>\n",
       "    </tr>\n",
       "    <tr>\n",
       "      <th>1</th>\n",
       "      <td>15.0</td>\n",
       "      <td>8</td>\n",
       "      <td>350.0</td>\n",
       "      <td>165</td>\n",
       "      <td>3693</td>\n",
       "      <td>11.5</td>\n",
       "      <td>70</td>\n",
       "      <td>1</td>\n",
       "      <td>buick skylark 320</td>\n",
       "    </tr>\n",
       "    <tr>\n",
       "      <th>2</th>\n",
       "      <td>18.0</td>\n",
       "      <td>8</td>\n",
       "      <td>318.0</td>\n",
       "      <td>150</td>\n",
       "      <td>3436</td>\n",
       "      <td>11.0</td>\n",
       "      <td>70</td>\n",
       "      <td>1</td>\n",
       "      <td>plymouth satellite</td>\n",
       "    </tr>\n",
       "    <tr>\n",
       "      <th>3</th>\n",
       "      <td>16.0</td>\n",
       "      <td>8</td>\n",
       "      <td>304.0</td>\n",
       "      <td>150</td>\n",
       "      <td>3433</td>\n",
       "      <td>12.0</td>\n",
       "      <td>70</td>\n",
       "      <td>1</td>\n",
       "      <td>amc rebel sst</td>\n",
       "    </tr>\n",
       "    <tr>\n",
       "      <th>4</th>\n",
       "      <td>17.0</td>\n",
       "      <td>8</td>\n",
       "      <td>302.0</td>\n",
       "      <td>140</td>\n",
       "      <td>3449</td>\n",
       "      <td>10.5</td>\n",
       "      <td>70</td>\n",
       "      <td>1</td>\n",
       "      <td>ford torino</td>\n",
       "    </tr>\n",
       "  </tbody>\n",
       "</table>\n",
       "</div>"
      ],
      "text/plain": [
       "    mpg  cylinders  displacement horsepower  weight  acceleration  model year  \\\n",
       "0  18.0          8         307.0        130    3504          12.0          70   \n",
       "1  15.0          8         350.0        165    3693          11.5          70   \n",
       "2  18.0          8         318.0        150    3436          11.0          70   \n",
       "3  16.0          8         304.0        150    3433          12.0          70   \n",
       "4  17.0          8         302.0        140    3449          10.5          70   \n",
       "\n",
       "   origin                   car name  \n",
       "0       1  chevrolet chevelle malibu  \n",
       "1       1          buick skylark 320  \n",
       "2       1         plymouth satellite  \n",
       "3       1              amc rebel sst  \n",
       "4       1                ford torino  "
      ]
     },
     "execution_count": 3,
     "metadata": {},
     "output_type": "execute_result"
    }
   ],
   "source": [
    "data.head()"
   ]
  },
  {
   "cell_type": "code",
   "execution_count": 4,
   "id": "3e7ebfb6",
   "metadata": {},
   "outputs": [],
   "source": [
    "data=data.drop('car name',axis=1)"
   ]
  },
  {
   "cell_type": "code",
   "execution_count": 5,
   "id": "d29325d7",
   "metadata": {},
   "outputs": [
    {
     "data": {
      "text/html": [
       "<div>\n",
       "<style scoped>\n",
       "    .dataframe tbody tr th:only-of-type {\n",
       "        vertical-align: middle;\n",
       "    }\n",
       "\n",
       "    .dataframe tbody tr th {\n",
       "        vertical-align: top;\n",
       "    }\n",
       "\n",
       "    .dataframe thead th {\n",
       "        text-align: right;\n",
       "    }\n",
       "</style>\n",
       "<table border=\"1\" class=\"dataframe\">\n",
       "  <thead>\n",
       "    <tr style=\"text-align: right;\">\n",
       "      <th></th>\n",
       "      <th>mpg</th>\n",
       "      <th>cylinders</th>\n",
       "      <th>displacement</th>\n",
       "      <th>horsepower</th>\n",
       "      <th>weight</th>\n",
       "      <th>acceleration</th>\n",
       "      <th>model year</th>\n",
       "      <th>origin</th>\n",
       "    </tr>\n",
       "  </thead>\n",
       "  <tbody>\n",
       "    <tr>\n",
       "      <th>32</th>\n",
       "      <td>25.0</td>\n",
       "      <td>4</td>\n",
       "      <td>98.0</td>\n",
       "      <td>?</td>\n",
       "      <td>2046</td>\n",
       "      <td>19.0</td>\n",
       "      <td>71</td>\n",
       "      <td>1</td>\n",
       "    </tr>\n",
       "    <tr>\n",
       "      <th>126</th>\n",
       "      <td>21.0</td>\n",
       "      <td>6</td>\n",
       "      <td>200.0</td>\n",
       "      <td>?</td>\n",
       "      <td>2875</td>\n",
       "      <td>17.0</td>\n",
       "      <td>74</td>\n",
       "      <td>1</td>\n",
       "    </tr>\n",
       "    <tr>\n",
       "      <th>330</th>\n",
       "      <td>40.9</td>\n",
       "      <td>4</td>\n",
       "      <td>85.0</td>\n",
       "      <td>?</td>\n",
       "      <td>1835</td>\n",
       "      <td>17.3</td>\n",
       "      <td>80</td>\n",
       "      <td>2</td>\n",
       "    </tr>\n",
       "    <tr>\n",
       "      <th>336</th>\n",
       "      <td>23.6</td>\n",
       "      <td>4</td>\n",
       "      <td>140.0</td>\n",
       "      <td>?</td>\n",
       "      <td>2905</td>\n",
       "      <td>14.3</td>\n",
       "      <td>80</td>\n",
       "      <td>1</td>\n",
       "    </tr>\n",
       "    <tr>\n",
       "      <th>354</th>\n",
       "      <td>34.5</td>\n",
       "      <td>4</td>\n",
       "      <td>100.0</td>\n",
       "      <td>?</td>\n",
       "      <td>2320</td>\n",
       "      <td>15.8</td>\n",
       "      <td>81</td>\n",
       "      <td>2</td>\n",
       "    </tr>\n",
       "    <tr>\n",
       "      <th>374</th>\n",
       "      <td>23.0</td>\n",
       "      <td>4</td>\n",
       "      <td>151.0</td>\n",
       "      <td>?</td>\n",
       "      <td>3035</td>\n",
       "      <td>20.5</td>\n",
       "      <td>82</td>\n",
       "      <td>1</td>\n",
       "    </tr>\n",
       "  </tbody>\n",
       "</table>\n",
       "</div>"
      ],
      "text/plain": [
       "      mpg  cylinders  displacement horsepower  weight  acceleration  \\\n",
       "32   25.0          4          98.0          ?    2046          19.0   \n",
       "126  21.0          6         200.0          ?    2875          17.0   \n",
       "330  40.9          4          85.0          ?    1835          17.3   \n",
       "336  23.6          4         140.0          ?    2905          14.3   \n",
       "354  34.5          4         100.0          ?    2320          15.8   \n",
       "374  23.0          4         151.0          ?    3035          20.5   \n",
       "\n",
       "     model year  origin  \n",
       "32           71       1  \n",
       "126          74       1  \n",
       "330          80       2  \n",
       "336          80       1  \n",
       "354          81       2  \n",
       "374          82       1  "
      ]
     },
     "execution_count": 5,
     "metadata": {},
     "output_type": "execute_result"
    }
   ],
   "source": [
    "#hp\n",
    "temp=pd.DataFrame(data.horsepower.str.isdigit())\n",
    "data[temp['horsepower']==False]"
   ]
  },
  {
   "cell_type": "code",
   "execution_count": 6,
   "id": "795271b4",
   "metadata": {},
   "outputs": [
    {
     "data": {
      "text/html": [
       "<div>\n",
       "<style scoped>\n",
       "    .dataframe tbody tr th:only-of-type {\n",
       "        vertical-align: middle;\n",
       "    }\n",
       "\n",
       "    .dataframe tbody tr th {\n",
       "        vertical-align: top;\n",
       "    }\n",
       "\n",
       "    .dataframe thead th {\n",
       "        text-align: right;\n",
       "    }\n",
       "</style>\n",
       "<table border=\"1\" class=\"dataframe\">\n",
       "  <thead>\n",
       "    <tr style=\"text-align: right;\">\n",
       "      <th></th>\n",
       "      <th>mpg</th>\n",
       "      <th>cylinders</th>\n",
       "      <th>displacement</th>\n",
       "      <th>horsepower</th>\n",
       "      <th>weight</th>\n",
       "      <th>acceleration</th>\n",
       "      <th>model year</th>\n",
       "      <th>origin</th>\n",
       "    </tr>\n",
       "  </thead>\n",
       "  <tbody>\n",
       "    <tr>\n",
       "      <th>32</th>\n",
       "      <td>25.0</td>\n",
       "      <td>4</td>\n",
       "      <td>98.0</td>\n",
       "      <td>NaN</td>\n",
       "      <td>2046</td>\n",
       "      <td>19.0</td>\n",
       "      <td>71</td>\n",
       "      <td>1</td>\n",
       "    </tr>\n",
       "    <tr>\n",
       "      <th>126</th>\n",
       "      <td>21.0</td>\n",
       "      <td>6</td>\n",
       "      <td>200.0</td>\n",
       "      <td>NaN</td>\n",
       "      <td>2875</td>\n",
       "      <td>17.0</td>\n",
       "      <td>74</td>\n",
       "      <td>1</td>\n",
       "    </tr>\n",
       "    <tr>\n",
       "      <th>330</th>\n",
       "      <td>40.9</td>\n",
       "      <td>4</td>\n",
       "      <td>85.0</td>\n",
       "      <td>NaN</td>\n",
       "      <td>1835</td>\n",
       "      <td>17.3</td>\n",
       "      <td>80</td>\n",
       "      <td>2</td>\n",
       "    </tr>\n",
       "    <tr>\n",
       "      <th>336</th>\n",
       "      <td>23.6</td>\n",
       "      <td>4</td>\n",
       "      <td>140.0</td>\n",
       "      <td>NaN</td>\n",
       "      <td>2905</td>\n",
       "      <td>14.3</td>\n",
       "      <td>80</td>\n",
       "      <td>1</td>\n",
       "    </tr>\n",
       "    <tr>\n",
       "      <th>354</th>\n",
       "      <td>34.5</td>\n",
       "      <td>4</td>\n",
       "      <td>100.0</td>\n",
       "      <td>NaN</td>\n",
       "      <td>2320</td>\n",
       "      <td>15.8</td>\n",
       "      <td>81</td>\n",
       "      <td>2</td>\n",
       "    </tr>\n",
       "    <tr>\n",
       "      <th>374</th>\n",
       "      <td>23.0</td>\n",
       "      <td>4</td>\n",
       "      <td>151.0</td>\n",
       "      <td>NaN</td>\n",
       "      <td>3035</td>\n",
       "      <td>20.5</td>\n",
       "      <td>82</td>\n",
       "      <td>1</td>\n",
       "    </tr>\n",
       "  </tbody>\n",
       "</table>\n",
       "</div>"
      ],
      "text/plain": [
       "      mpg  cylinders  displacement horsepower  weight  acceleration  \\\n",
       "32   25.0          4          98.0        NaN    2046          19.0   \n",
       "126  21.0          6         200.0        NaN    2875          17.0   \n",
       "330  40.9          4          85.0        NaN    1835          17.3   \n",
       "336  23.6          4         140.0        NaN    2905          14.3   \n",
       "354  34.5          4         100.0        NaN    2320          15.8   \n",
       "374  23.0          4         151.0        NaN    3035          20.5   \n",
       "\n",
       "     model year  origin  \n",
       "32           71       1  \n",
       "126          74       1  \n",
       "330          80       2  \n",
       "336          80       1  \n",
       "354          81       2  \n",
       "374          82       1  "
      ]
     },
     "execution_count": 6,
     "metadata": {},
     "output_type": "execute_result"
    }
   ],
   "source": [
    "data=data.replace('?',np.nan)\n",
    "data[temp['horsepower']==False]"
   ]
  },
  {
   "cell_type": "code",
   "execution_count": 7,
   "id": "5cc2a9f4",
   "metadata": {},
   "outputs": [],
   "source": [
    "medianfiller=lambda x:x.fillna(x.median())"
   ]
  },
  {
   "cell_type": "code",
   "execution_count": 8,
   "id": "0a89389b",
   "metadata": {},
   "outputs": [],
   "source": [
    "data=data.apply(medianfiller)"
   ]
  },
  {
   "cell_type": "code",
   "execution_count": 9,
   "id": "d30dd676",
   "metadata": {},
   "outputs": [],
   "source": [
    "data[temp['horsepower']==False]\n",
    "data['horsepower']=data['horsepower'].astype('float64')"
   ]
  },
  {
   "cell_type": "code",
   "execution_count": 10,
   "id": "413d00cf",
   "metadata": {},
   "outputs": [],
   "source": [
    "x=data.drop('mpg',axis=1)"
   ]
  },
  {
   "cell_type": "code",
   "execution_count": 11,
   "id": "48ad96f4",
   "metadata": {},
   "outputs": [],
   "source": [
    "y=data['mpg']"
   ]
  },
  {
   "cell_type": "code",
   "execution_count": 12,
   "id": "c6304752",
   "metadata": {},
   "outputs": [],
   "source": [
    "# STEPS OF PCA \n",
    "#we use standard scaler to normalize our data.\n",
    "s=StandardScaler()\n",
    "x_std=s.fit_transform(x)"
   ]
  },
  {
   "cell_type": "code",
   "execution_count": 13,
   "id": "dfd9d156",
   "metadata": {},
   "outputs": [],
   "source": [
    "cov_matrix=np.cov(x_std.T)"
   ]
  },
  {
   "cell_type": "code",
   "execution_count": 14,
   "id": "979549c8",
   "metadata": {},
   "outputs": [
    {
     "data": {
      "text/plain": [
       "array([[ 1.00251889,  0.95311615,  0.84340357,  0.89827376, -0.50669259,\n",
       "        -0.34962425, -0.56396033],\n",
       "       [ 0.95311615,  1.00251889,  0.89803457,  0.93517383, -0.54505356,\n",
       "        -0.37109656, -0.61094444],\n",
       "       [ 0.84340357,  0.89803457,  1.00251889,  0.86461476, -0.68831918,\n",
       "        -0.41477495, -0.45323458],\n",
       "       [ 0.89827376,  0.93517383,  0.86461476,  1.00251889, -0.41850885,\n",
       "        -0.30733654, -0.58248745],\n",
       "       [-0.50669259, -0.54505356, -0.68831918, -0.41850885,  1.00251889,\n",
       "         0.28886274,  0.20639158],\n",
       "       [-0.34962425, -0.37109656, -0.41477495, -0.30733654,  0.28886274,\n",
       "         1.00251889,  0.18111726],\n",
       "       [-0.56396033, -0.61094444, -0.45323458, -0.58248745,  0.20639158,\n",
       "         0.18111726,  1.00251889]])"
      ]
     },
     "execution_count": 14,
     "metadata": {},
     "output_type": "execute_result"
    }
   ],
   "source": [
    "cov_matrix"
   ]
  },
  {
   "cell_type": "code",
   "execution_count": 15,
   "id": "b0fcfe99",
   "metadata": {},
   "outputs": [],
   "source": [
    "eigenvalues,eigenvectors=np.linalg.eig(cov_matrix)"
   ]
  },
  {
   "cell_type": "code",
   "execution_count": 16,
   "id": "4f8ae8a5",
   "metadata": {},
   "outputs": [
    {
     "name": "stdout",
     "output_type": "stream",
     "text": [
      "eigen values: [4.61375285 0.94263114 0.75056808 0.48239402 0.13258963 0.0336822\n",
      " 0.06201432]\n"
     ]
    }
   ],
   "source": [
    "print(\"eigen values:\",eigenvalues)"
   ]
  },
  {
   "cell_type": "code",
   "execution_count": 17,
   "id": "f514f838",
   "metadata": {},
   "outputs": [
    {
     "name": "stdout",
     "output_type": "stream",
     "text": [
      "eigen vectors [[ 0.43855264  0.1144845  -0.02689113 -0.2430079  -0.69425676 -0.45266412\n",
      "  -0.21884163]\n",
      " [ 0.45386128  0.10580212 -0.02465943 -0.16082161 -0.17706048  0.84999716\n",
      "  -0.0499858 ]\n",
      " [ 0.43755724 -0.14144964 -0.17639693 -0.11774532  0.5934737  -0.15543464\n",
      "  -0.6059578 ]\n",
      " [ 0.43219091  0.20336634  0.00434321 -0.33489636  0.33523145 -0.20773606\n",
      "   0.71003121]\n",
      " [-0.29772584  0.48640295  0.54872031 -0.53485615  0.12655828  0.02384225\n",
      "  -0.26649758]\n",
      " [-0.21488225  0.63315133 -0.73994607 -0.02603235  0.02044359  0.00996896\n",
      "  -0.06503704]\n",
      " [-0.29769303 -0.52617954 -0.34484761 -0.70874202 -0.07504026  0.06795576\n",
      "   0.05504373]]\n"
     ]
    }
   ],
   "source": [
    "print(\"eigen vectors\",eigenvectors)"
   ]
  },
  {
   "cell_type": "code",
   "execution_count": 18,
   "id": "4acea44d",
   "metadata": {},
   "outputs": [],
   "source": [
    "#we are pairing eigen values and eigen vector\n",
    "eig_pairs=[(eigenvalues[index],eigenvectors[:,index])for index in range(len(eigenvalues))]"
   ]
  },
  {
   "cell_type": "code",
   "execution_count": 19,
   "id": "fc4fc625",
   "metadata": {},
   "outputs": [],
   "source": [
    "#sort\n",
    "eig_pairs.sort()"
   ]
  },
  {
   "cell_type": "code",
   "execution_count": 20,
   "id": "7c3aa9e4",
   "metadata": {},
   "outputs": [
    {
     "name": "stdout",
     "output_type": "stream",
     "text": [
      "[(0.033682201103135065, array([-0.45266412,  0.84999716, -0.15543464, -0.20773606,  0.02384225,\n",
      "        0.00996896,  0.06795576])), (0.06201432270087993, array([-0.21884163, -0.0499858 , -0.6059578 ,  0.71003121, -0.26649758,\n",
      "       -0.06503704,  0.05504373])), (0.13258963399280732, array([-0.69425676, -0.17706048,  0.5934737 ,  0.33523145,  0.12655828,\n",
      "        0.02044359, -0.07504026])), (0.4823940178801017, array([-0.2430079 , -0.16082161, -0.11774532, -0.33489636, -0.53485615,\n",
      "       -0.02603235, -0.70874202])), (0.7505680761984045, array([-0.02689113, -0.02465943, -0.17639693,  0.00434321,  0.54872031,\n",
      "       -0.73994607, -0.34484761])), (0.9426311428862395, array([ 0.1144845 ,  0.10580212, -0.14144964,  0.20336634,  0.48640295,\n",
      "        0.63315133, -0.52617954])), (4.613752847052041, array([ 0.43855264,  0.45386128,  0.43755724,  0.43219091, -0.29772584,\n",
      "       -0.21488225, -0.29769303]))]\n"
     ]
    }
   ],
   "source": [
    "print(eig_pairs)"
   ]
  },
  {
   "cell_type": "code",
   "execution_count": 21,
   "id": "ccec74b6",
   "metadata": {},
   "outputs": [],
   "source": [
    "eig_pairs.reverse()"
   ]
  },
  {
   "cell_type": "code",
   "execution_count": 22,
   "id": "8239a107",
   "metadata": {},
   "outputs": [
    {
     "name": "stdout",
     "output_type": "stream",
     "text": [
      "[(4.613752847052041, array([ 0.43855264,  0.45386128,  0.43755724,  0.43219091, -0.29772584,\n",
      "       -0.21488225, -0.29769303])), (0.9426311428862395, array([ 0.1144845 ,  0.10580212, -0.14144964,  0.20336634,  0.48640295,\n",
      "        0.63315133, -0.52617954])), (0.7505680761984045, array([-0.02689113, -0.02465943, -0.17639693,  0.00434321,  0.54872031,\n",
      "       -0.73994607, -0.34484761])), (0.4823940178801017, array([-0.2430079 , -0.16082161, -0.11774532, -0.33489636, -0.53485615,\n",
      "       -0.02603235, -0.70874202])), (0.13258963399280732, array([-0.69425676, -0.17706048,  0.5934737 ,  0.33523145,  0.12655828,\n",
      "        0.02044359, -0.07504026])), (0.06201432270087993, array([-0.21884163, -0.0499858 , -0.6059578 ,  0.71003121, -0.26649758,\n",
      "       -0.06503704,  0.05504373])), (0.033682201103135065, array([-0.45266412,  0.84999716, -0.15543464, -0.20773606,  0.02384225,\n",
      "        0.00996896,  0.06795576]))]\n"
     ]
    }
   ],
   "source": [
    "print(eig_pairs)"
   ]
  },
  {
   "cell_type": "code",
   "execution_count": 23,
   "id": "c18123d2",
   "metadata": {},
   "outputs": [],
   "source": [
    "eigenvalues_sorted=[eig_pairs[index][0]for index in range(len(eigenvalues))]"
   ]
  },
  {
   "cell_type": "code",
   "execution_count": 24,
   "id": "dc1ef422",
   "metadata": {},
   "outputs": [
    {
     "data": {
      "text/plain": [
       "[4.613752847052041,\n",
       " 0.9426311428862395,\n",
       " 0.7505680761984045,\n",
       " 0.4823940178801017,\n",
       " 0.13258963399280732,\n",
       " 0.06201432270087993,\n",
       " 0.033682201103135065]"
      ]
     },
     "execution_count": 24,
     "metadata": {},
     "output_type": "execute_result"
    }
   ],
   "source": [
    "eigenvalues_sorted"
   ]
  },
  {
   "cell_type": "code",
   "execution_count": 26,
   "id": "7e1c0a6d",
   "metadata": {},
   "outputs": [],
   "source": [
    "eigenvectors_sorted=[eig_pairs[index][1]for index in range (len(eigenvalues))]"
   ]
  },
  {
   "cell_type": "code",
   "execution_count": 27,
   "id": "e353fa04",
   "metadata": {},
   "outputs": [
    {
     "data": {
      "text/plain": [
       "[array([ 0.43855264,  0.45386128,  0.43755724,  0.43219091, -0.29772584,\n",
       "        -0.21488225, -0.29769303]),\n",
       " array([ 0.1144845 ,  0.10580212, -0.14144964,  0.20336634,  0.48640295,\n",
       "         0.63315133, -0.52617954]),\n",
       " array([-0.02689113, -0.02465943, -0.17639693,  0.00434321,  0.54872031,\n",
       "        -0.73994607, -0.34484761]),\n",
       " array([-0.2430079 , -0.16082161, -0.11774532, -0.33489636, -0.53485615,\n",
       "        -0.02603235, -0.70874202]),\n",
       " array([-0.69425676, -0.17706048,  0.5934737 ,  0.33523145,  0.12655828,\n",
       "         0.02044359, -0.07504026]),\n",
       " array([-0.21884163, -0.0499858 , -0.6059578 ,  0.71003121, -0.26649758,\n",
       "        -0.06503704,  0.05504373]),\n",
       " array([-0.45266412,  0.84999716, -0.15543464, -0.20773606,  0.02384225,\n",
       "         0.00996896,  0.06795576])]"
      ]
     },
     "execution_count": 27,
     "metadata": {},
     "output_type": "execute_result"
    }
   ],
   "source": [
    "eigenvectors_sorted"
   ]
  },
  {
   "cell_type": "code",
   "execution_count": 28,
   "id": "1f8e3c00",
   "metadata": {},
   "outputs": [],
   "source": [
    "#now we reduce the dimensions(project data in low dimensions)\n",
    "p_reduce=np.array(eigenvectors_sorted[0:7])"
   ]
  },
  {
   "cell_type": "code",
   "execution_count": 29,
   "id": "f2ee66d0",
   "metadata": {},
   "outputs": [],
   "source": [
    "x_std_4_dim=np.dot(x_std,p_reduce.T)"
   ]
  },
  {
   "cell_type": "code",
   "execution_count": 30,
   "id": "84a7e2b1",
   "metadata": {},
   "outputs": [],
   "source": [
    "prj_data=pd.DataFrame(x_std_4_dim)"
   ]
  },
  {
   "cell_type": "code",
   "execution_count": 31,
   "id": "1c6c3a64",
   "metadata": {},
   "outputs": [
    {
     "data": {
      "text/html": [
       "<div>\n",
       "<style scoped>\n",
       "    .dataframe tbody tr th:only-of-type {\n",
       "        vertical-align: middle;\n",
       "    }\n",
       "\n",
       "    .dataframe tbody tr th {\n",
       "        vertical-align: top;\n",
       "    }\n",
       "\n",
       "    .dataframe thead th {\n",
       "        text-align: right;\n",
       "    }\n",
       "</style>\n",
       "<table border=\"1\" class=\"dataframe\">\n",
       "  <thead>\n",
       "    <tr style=\"text-align: right;\">\n",
       "      <th></th>\n",
       "      <th>0</th>\n",
       "      <th>1</th>\n",
       "      <th>2</th>\n",
       "      <th>3</th>\n",
       "      <th>4</th>\n",
       "      <th>5</th>\n",
       "      <th>6</th>\n",
       "    </tr>\n",
       "  </thead>\n",
       "  <tbody>\n",
       "    <tr>\n",
       "      <th>0</th>\n",
       "      <td>2.667504</td>\n",
       "      <td>-0.964253</td>\n",
       "      <td>0.556780</td>\n",
       "      <td>0.412127</td>\n",
       "      <td>-0.765829</td>\n",
       "      <td>0.069401</td>\n",
       "      <td>-0.082557</td>\n",
       "    </tr>\n",
       "    <tr>\n",
       "      <th>1</th>\n",
       "      <td>3.406706</td>\n",
       "      <td>-1.093110</td>\n",
       "      <td>0.286226</td>\n",
       "      <td>0.260029</td>\n",
       "      <td>-0.242882</td>\n",
       "      <td>-0.299760</td>\n",
       "      <td>0.075157</td>\n",
       "    </tr>\n",
       "    <tr>\n",
       "      <th>2</th>\n",
       "      <td>3.018035</td>\n",
       "      <td>-1.220138</td>\n",
       "      <td>0.262181</td>\n",
       "      <td>0.554572</td>\n",
       "      <td>-0.546509</td>\n",
       "      <td>-0.213672</td>\n",
       "      <td>-0.066162</td>\n",
       "    </tr>\n",
       "    <tr>\n",
       "      <th>3</th>\n",
       "      <td>2.847389</td>\n",
       "      <td>-1.058480</td>\n",
       "      <td>0.464710</td>\n",
       "      <td>0.383185</td>\n",
       "      <td>-0.477944</td>\n",
       "      <td>-0.306230</td>\n",
       "      <td>-0.171039</td>\n",
       "    </tr>\n",
       "    <tr>\n",
       "      <th>4</th>\n",
       "      <td>2.894375</td>\n",
       "      <td>-1.284515</td>\n",
       "      <td>0.212630</td>\n",
       "      <td>0.702075</td>\n",
       "      <td>-0.692590</td>\n",
       "      <td>0.012035</td>\n",
       "      <td>-0.163561</td>\n",
       "    </tr>\n",
       "  </tbody>\n",
       "</table>\n",
       "</div>"
      ],
      "text/plain": [
       "          0         1         2         3         4         5         6\n",
       "0  2.667504 -0.964253  0.556780  0.412127 -0.765829  0.069401 -0.082557\n",
       "1  3.406706 -1.093110  0.286226  0.260029 -0.242882 -0.299760  0.075157\n",
       "2  3.018035 -1.220138  0.262181  0.554572 -0.546509 -0.213672 -0.066162\n",
       "3  2.847389 -1.058480  0.464710  0.383185 -0.477944 -0.306230 -0.171039\n",
       "4  2.894375 -1.284515  0.212630  0.702075 -0.692590  0.012035 -0.163561"
      ]
     },
     "execution_count": 31,
     "metadata": {},
     "output_type": "execute_result"
    }
   ],
   "source": [
    "prj_data.head()"
   ]
  },
  {
   "cell_type": "code",
   "execution_count": 32,
   "id": "29ff070b",
   "metadata": {},
   "outputs": [],
   "source": [
    "x_train,x_test,y_train,y_test=train_test_split(prj_data,y,test_size=0.30,random_state=1)"
   ]
  },
  {
   "cell_type": "code",
   "execution_count": 33,
   "id": "4a04c03f",
   "metadata": {},
   "outputs": [],
   "source": [
    "from sklearn.linear_model import LinearRegression"
   ]
  },
  {
   "cell_type": "code",
   "execution_count": 34,
   "id": "b419429d",
   "metadata": {},
   "outputs": [
    {
     "data": {
      "text/plain": [
       "LinearRegression()"
      ]
     },
     "execution_count": 34,
     "metadata": {},
     "output_type": "execute_result"
    }
   ],
   "source": [
    "linearregression=LinearRegression()\n",
    "linearregression.fit(x_train,y_train)"
   ]
  },
  {
   "cell_type": "code",
   "execution_count": 35,
   "id": "b0997913",
   "metadata": {},
   "outputs": [
    {
     "data": {
      "text/plain": [
       "0.8472274567567304"
      ]
     },
     "execution_count": 35,
     "metadata": {},
     "output_type": "execute_result"
    }
   ],
   "source": [
    "linearregression.score(x_test,y_test)"
   ]
  },
  {
   "cell_type": "code",
   "execution_count": 36,
   "id": "09544a16",
   "metadata": {},
   "outputs": [
    {
     "data": {
      "text/plain": [
       "0.8081802739111359"
      ]
     },
     "execution_count": 36,
     "metadata": {},
     "output_type": "execute_result"
    }
   ],
   "source": [
    "linearregression.score(x_train,y_train)"
   ]
  },
  {
   "cell_type": "code",
   "execution_count": null,
   "id": "2c62f5e7",
   "metadata": {},
   "outputs": [],
   "source": []
  }
 ],
 "metadata": {
  "kernelspec": {
   "display_name": "Python 3 (ipykernel)",
   "language": "python",
   "name": "python3"
  },
  "language_info": {
   "codemirror_mode": {
    "name": "ipython",
    "version": 3
   },
   "file_extension": ".py",
   "mimetype": "text/x-python",
   "name": "python",
   "nbconvert_exporter": "python",
   "pygments_lexer": "ipython3",
   "version": "3.9.12"
  }
 },
 "nbformat": 4,
 "nbformat_minor": 5
}
